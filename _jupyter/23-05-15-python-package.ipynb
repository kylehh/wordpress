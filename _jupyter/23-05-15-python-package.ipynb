{
 "cells": [
  {
   "cell_type": "markdown",
   "id": "c97cdf9f-abc5-482e-b2f6-5c027bebe0b3",
   "metadata": {
    "tags": []
   },
   "source": [
    "# Create Python packages Part 1\n",
    "This blog records my tests on how to create a Python package\n",
    "## 1. Simplest demo of creating a python package\n",
    "Creating a python packages is not hard, but there may be some tricks and pitfall. \n",
    "There is one took me hours to figour it out, and I forgot about after a month time\n",
    "So I decided to record it down so I don't have to research on it anymore.  \n",
    "\n",
    "Here is the simplest demo of creating a python package called `khpack`"
   ]
  },
  {
   "cell_type": "code",
   "execution_count": 4,
   "id": "91f38415-c9c8-4350-9067-a7fb113f780c",
   "metadata": {
    "tags": []
   },
   "outputs": [
    {
     "name": "stdout",
     "output_type": "stream",
     "text": [
      "README\t__init__.py  khpack  setup.py  test.py\n"
     ]
    }
   ],
   "source": [
    "!ls ../khpack_work/"
   ]
  },
  {
   "cell_type": "markdown",
   "id": "4cca1462-2d29-4440-9d71-1426cb7c0878",
   "metadata": {},
   "source": [
    "`__init__.py` and `setup.py` are all you need to start a package. \n",
    "- `__init__.py` can be empty \n",
    "- `setup_up.py` are shown below"
   ]
  },
  {
   "cell_type": "code",
   "execution_count": null,
   "id": "c43f8789-475f-489e-bb8d-a4f098552c0e",
   "metadata": {
    "tags": []
   },
   "outputs": [],
   "source": [
    "from setuptools import setup, find_packages\n",
    "  \n",
    "try:\n",
    "    __version__ = open(\"VERSION\", \"r\").read()\n",
    "except FileNotFoundError:\n",
    "    __version__ = \"0.0.1\"\n",
    "\n",
    "setup(\n",
    "    name=\"khpack\",\n",
    "    version=__version__,\n",
    "    description=\"kh test only\",\n",
    "    install_requires=['numpy'],\n",
    "    include_package_data=True,\n",
    "    packages=find_packages(),\n",
    "    zip_safe=True\n",
    ")"
   ]
  },
  {
   "cell_type": "markdown",
   "id": "0ccf47a6-5727-4ddd-938e-1114f76fb304",
   "metadata": {
    "tags": []
   },
   "source": [
    "The __most__ tricky part is the actually package subfolder, you should name is the __same__ as your package name, which is `khpack`. I named it `src` before, which make `import khpack` fail even though you can see 'khpack' from `pip list`, which is quiet a headache"
   ]
  },
  {
   "cell_type": "code",
   "execution_count": 7,
   "id": "f390d20f-f51b-46f2-ab30-98df5417db9d",
   "metadata": {
    "tags": []
   },
   "outputs": [
    {
     "name": "stdout",
     "output_type": "stream",
     "text": [
      "__init__.py  utils.py\n"
     ]
    }
   ],
   "source": [
    "!ls ../khpack_work/khpack"
   ]
  },
  {
   "cell_type": "markdown",
   "id": "3c65d451-0842-479c-9234-b48c94883244",
   "metadata": {},
   "source": [
    "In side the `khpack` folder, you also just need two files.\n",
    "- `__init__.py` can be empty\n",
    "- `utils.py` contains the code logic"
   ]
  },
  {
   "cell_type": "code",
   "execution_count": 8,
   "id": "39072a4d-4adb-4c2e-99a1-58e6137538e4",
   "metadata": {
    "tags": []
   },
   "outputs": [],
   "source": [
    "def helper():\n",
    "    print('Hello from khpack')\n",
    "    return 123"
   ]
  },
  {
   "cell_type": "markdown",
   "id": "7c5f5838-ae59-4840-add6-0c09c66b5696",
   "metadata": {},
   "source": [
    "Now you can build the package by running `pip install -e .`. It will create `khpack.egg-info` in current folder and `site-packages/khpack.egg-link` under the installation path. This link file only contains one line, which is pointing to `../../khpack_work` folder"
   ]
  },
  {
   "cell_type": "code",
   "execution_count": null,
   "id": "3caf2b9c-99fa-4334-ab5f-62418c140587",
   "metadata": {},
   "outputs": [],
   "source": []
  }
 ],
 "metadata": {
  "kernelspec": {
   "display_name": "Python 3 (ipykernel)",
   "language": "python",
   "name": "python3"
  },
  "language_info": {
   "codemirror_mode": {
    "name": "ipython",
    "version": 3
   },
   "file_extension": ".py",
   "mimetype": "text/x-python",
   "name": "python",
   "nbconvert_exporter": "python",
   "pygments_lexer": "ipython3",
   "version": "3.9.15"
  }
 },
 "nbformat": 4,
 "nbformat_minor": 5
}
