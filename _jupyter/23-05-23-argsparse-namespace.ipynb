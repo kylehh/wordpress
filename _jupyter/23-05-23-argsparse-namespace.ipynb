{
 "cells": [
  {
   "cell_type": "markdown",
   "id": "d898c609-86b9-4b0e-8af5-ace34aa6661d",
   "metadata": {},
   "source": [
    "argparse and Namespace\n",
    "Learn something really trival today, but kind of interesting and useful, which is related to argparse library\n",
    "We all use argparse for argument parsing. The standard usage is shown below:"
   ]
  },
  {
   "cell_type": "code",
   "execution_count": 45,
   "id": "a293f11a-ca7a-4f64-b97f-59a34fb032ec",
   "metadata": {
    "tags": []
   },
   "outputs": [
    {
     "name": "stdout",
     "output_type": "stream",
     "text": [
      "<class 'argparse.Namespace'> True 5 123\n"
     ]
    }
   ],
   "source": [
    "import argparse\n",
    "\n",
    "def parse_args():\n",
    "    parser = argparse.ArgumentParser()\n",
    "    parser.add_argument(\n",
    "        \"-a\",\n",
    "        \"--asyn\",\n",
    "        action = 'store_true',\n",
    "        help=\"Async optional\",\n",
    "    )\n",
    "    parser.add_argument(\n",
    "        \"-b\",\n",
    "        \"--batch-size\",\n",
    "        type=int,\n",
    "        default=64,\n",
    "        metavar=\"N\",\n",
    "        help=\"input batch size for training (default: 64)\",\n",
    "    )\n",
    "    parser.add_argument('-c','--con', action='store_const', const=123)\n",
    "    #return parser.parse_args()\n",
    "    \n",
    "    #For testing purpose only\n",
    "    #The parse_args() take a List instead of Str as input!\n",
    "    return parser.parse_args('--asyn -b 5 -c'.split())\n",
    "\n",
    "args = parse_args()\n",
    "print(type(args), args.asyn, args.batch_size, args.con)"
   ]
  },
  {
   "cell_type": "markdown",
   "id": "179449a7-fb54-4961-b4ab-c4ad8964a714",
   "metadata": {},
   "source": [
    "Couple of things amazed me when I first time looked at this library, is that it can automatecally change `-` to `_`, like the flag `--batch-size` changed to `batch_size` in the final args namespace.\n",
    "\n",
    "Oh, namespace. yes, the `args` is **Namespace** type variable, so you can directly use `args.batch_size`, which is very convenient!\n",
    "\n",
    "But, what if the following program ask for a dict type as input, which is very common. Or in reverse, if I have a dict type, how can I convert it to a Namespace?  \n",
    "\n",
    "Let's solve them one by one:\n",
    "1. converting **Namespace** to **Dictionary**"
   ]
  },
  {
   "cell_type": "code",
   "execution_count": 46,
   "id": "043f1436-9a37-4a8f-bcf9-f28162117b00",
   "metadata": {
    "tags": []
   },
   "outputs": [
    {
     "name": "stdout",
     "output_type": "stream",
     "text": [
      "Namespace is converting to Dict 5\n"
     ]
    }
   ],
   "source": [
    "def dummy_func(args):\n",
    "    args_dict = vars(args)\n",
    "    batch_size = args_dict['batch_size']\n",
    "    print('Namespace is converting to Dict',batch_size)\n",
    "    \n",
    "dummy_func(args)"
   ]
  },
  {
   "cell_type": "markdown",
   "id": "2edcd043-85cc-47a3-a2d9-c2de30d1729c",
   "metadata": {},
   "source": [
    "You see, very easy. Just use the magic of `vars()`... Actually I know very few about `vars`, will check out more later\n",
    "\n",
    "2. converting **Dictionary** to **Namespace**"
   ]
  },
  {
   "cell_type": "code",
   "execution_count": 49,
   "id": "fd94bcaf-e845-45b0-9aba-a8f03a8d21d9",
   "metadata": {
    "tags": []
   },
   "outputs": [
    {
     "name": "stdout",
     "output_type": "stream",
     "text": [
      "Dict is converting to Namespace by method 1: 5\n",
      "Dict is converting to Namespace by method 2: 5\n"
     ]
    }
   ],
   "source": [
    "def D2N(dic_input):\n",
    "    # Method 1, by Namespace class from argparse\n",
    "    from argparse import Namespace\n",
    "    args = Namespace(**dic_input)\n",
    "    print('Dict is converting to Namespace by method 1:', args.batch_size)\n",
    "    \n",
    "    # Method 2, define your own Namespace class\n",
    "    class Namespace_:\n",
    "        def __init__(self, adict):\n",
    "            self.__dict__.update(adict)\n",
    "    args_ = Namespace_(dic_input)\n",
    "    print('Dict is converting to Namespace by method 2:', args_.batch_size)\n",
    "    \n",
    "D2N({'batch_size': 5})"
   ]
  },
  {
   "cell_type": "markdown",
   "id": "94c145ea-695c-4a26-bbda-bfd90c11af23",
   "metadata": {},
   "source": [
    "Nice and neat! Both methods have some interesting points:\n",
    "Method 1, use `**` to unpack the dictionary\n",
    "Method 2, use `__dict__`, which I know as little as `vars`. will check it out",
    "\n",
    "I know, it's sth really trivial. But I would forgot in 2 days so I decided to write it down. \n"
   ]
  }
 ],
 "metadata": {
  "kernelspec": {
   "display_name": "conda_python3",
   "language": "python",
   "name": "conda_python3"
  },
  "language_info": {
   "codemirror_mode": {
    "name": "ipython",
    "version": 3
   },
   "file_extension": ".py",
   "mimetype": "text/x-python",
   "name": "python",
   "nbconvert_exporter": "python",
   "pygments_lexer": "ipython3",
   "version": "3.10.8"
  }
 },
 "nbformat": 4,
 "nbformat_minor": 5
}
