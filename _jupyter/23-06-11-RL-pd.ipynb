{
 "cells": [
  {
   "attachments": {},
   "cell_type": "markdown",
   "metadata": {},
   "source": [
    "Learning RL is actually my very first ML project since joined AWS. DeepRace was released at reInvent 2018, and our prototype team got hand on it at early 2019. The task is straighforward: we are gonna do a hackathon with DeepRacer with one of the largest manufactory customer, and MS will be there as well. So the demo and contents needs to be shining and impressive.\n",
    "\n",
    "So, here we go, Q-learning, Bellman equation, DQN, PPO, and ...oh, it's actually the first time I know a libary called Ray, which RLlib was used in the DeepRacer training source code\n",
    "\n",
    "Here are some notes I took from review RL from Dr Hongyi Lee's course:\n",
    "1. Trajectory is combine of {states and actions}, and probability of a tracjectory under a defined policy, which parametered by $\\theta$, can be calculated as follow  \n",
    "![Alt text](/assets/images/23-06-11-RL-pd_files/trajectory.png)\n",
    "2. Expected reward can be calculated with accumulated reward, weighted by prob. of trajectory  \n",
    "![Alt text](/assets/images/23-06-11-RL-pd_files/expected_reward.png)  \n",
    "3. Policy Gradient is taking gradient over the expected reward. Doing some math tricks to move $P_\\theta(\\tau)$ into a log and a rough estimation of expected value by sampling\n",
    "![Alt text](/assets/images/23-06-11-RL-pd_files/policy_gradient.png)    \n",
    "4. During implementations, you need to get states and actions  \n",
    "![Alt text](/assets/images/23-06-11-RL-pd_files/get_s_and_a.png)  \n",
    "5. Consider it as classification problem, so minimized cross-entropy, is essentially maximize likelihood, so in RL, we just weighted the likelihood by expected reward for the whole episode.  \n",
    "![Alt text](/assets/images/23-06-11-RL-pd_files/as-classification.png)  \n",
    "6. Tip 1, add a basedline to avoid reward always be positive , so that non-sampled action will NOT stay constant. \n",
    "![Alt text](/assets/images/23-06-11-RL-pd_files/add_baseline.png)  \n",
    "7. Tip 2, only consider rewards from $t$ time on, and adding discount factor $\\gamma$. Thus we can define *advantage function*\n",
    "![Alt text](/assets/images/23-06-11-RL-pd_files/advantage_function.png)"
   ]
  }
 ],
 "metadata": {
  "kernelspec": {
   "display_name": "Python 3",
   "language": "python",
   "name": "python3"
  },
  "language_info": {
   "name": "python",
   "version": "3.9.6"
  },
  "orig_nbformat": 4
 },
 "nbformat": 4,
 "nbformat_minor": 2
}
